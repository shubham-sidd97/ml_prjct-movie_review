{
 "cells": [
  {
   "cell_type": "code",
   "execution_count": 1,
   "metadata": {
    "_uuid": "8a7a31597570418ebd5ea632c2a70f069bb3e063"
   },
   "outputs": [],
   "source": [
    "import pandas as pd\n",
    "import numpy as np\n",
    "import nltk\n",
    "from nltk.corpus import stopwords\n",
    "import sklearn.linear_model\n",
    "import sklearn\n",
    "import sklearn.ensemble\n",
    "import sklearn.tree\n",
    "from sklearn.svm import SVC\n",
    "from sklearn.neighbors import KNeighborsClassifier\n",
    "from sklearn.linear_model import LogisticRegression\n",
    "import matplotlib.pyplot as plt\n",
    "N = 150000\n",
    "from sklearn import linear_model"
   ]
  },
  {
   "cell_type": "markdown",
   "metadata": {
    "_uuid": "3a99531d8d9888d27f690b52ad0c5ee439c0fcd7"
   },
   "source": [
    "# Loading Data"
   ]
  },
  {
   "cell_type": "code",
   "execution_count": 2,
   "metadata": {
    "_uuid": "ec2e708e709d2195131b189a36f506fddf9fae6c"
   },
   "outputs": [
    {
     "data": {
      "text/html": [
       "<div>\n",
       "<style scoped>\n",
       "    .dataframe tbody tr th:only-of-type {\n",
       "        vertical-align: middle;\n",
       "    }\n",
       "\n",
       "    .dataframe tbody tr th {\n",
       "        vertical-align: top;\n",
       "    }\n",
       "\n",
       "    .dataframe thead th {\n",
       "        text-align: right;\n",
       "    }\n",
       "</style>\n",
       "<table border=\"1\" class=\"dataframe\">\n",
       "  <thead>\n",
       "    <tr style=\"text-align: right;\">\n",
       "      <th></th>\n",
       "      <th>PhraseId</th>\n",
       "      <th>SentenceId</th>\n",
       "      <th>Phrase</th>\n",
       "      <th>Sentiment</th>\n",
       "    </tr>\n",
       "  </thead>\n",
       "  <tbody>\n",
       "    <tr>\n",
       "      <th>0</th>\n",
       "      <td>1</td>\n",
       "      <td>1</td>\n",
       "      <td>A series of escapades demonstrating the adage ...</td>\n",
       "      <td>1</td>\n",
       "    </tr>\n",
       "    <tr>\n",
       "      <th>1</th>\n",
       "      <td>2</td>\n",
       "      <td>1</td>\n",
       "      <td>A series of escapades demonstrating the adage ...</td>\n",
       "      <td>2</td>\n",
       "    </tr>\n",
       "    <tr>\n",
       "      <th>2</th>\n",
       "      <td>3</td>\n",
       "      <td>1</td>\n",
       "      <td>A series</td>\n",
       "      <td>2</td>\n",
       "    </tr>\n",
       "    <tr>\n",
       "      <th>3</th>\n",
       "      <td>4</td>\n",
       "      <td>1</td>\n",
       "      <td>A</td>\n",
       "      <td>2</td>\n",
       "    </tr>\n",
       "    <tr>\n",
       "      <th>4</th>\n",
       "      <td>5</td>\n",
       "      <td>1</td>\n",
       "      <td>series</td>\n",
       "      <td>2</td>\n",
       "    </tr>\n",
       "  </tbody>\n",
       "</table>\n",
       "</div>"
      ],
      "text/plain": [
       "   PhraseId  SentenceId                                             Phrase  \\\n",
       "0         1           1  A series of escapades demonstrating the adage ...   \n",
       "1         2           1  A series of escapades demonstrating the adage ...   \n",
       "2         3           1                                           A series   \n",
       "3         4           1                                                  A   \n",
       "4         5           1                                             series   \n",
       "\n",
       "   Sentiment  \n",
       "0          1  \n",
       "1          2  \n",
       "2          2  \n",
       "3          2  \n",
       "4          2  "
      ]
     },
     "execution_count": 2,
     "metadata": {},
     "output_type": "execute_result"
    }
   ],
   "source": [
    "#data = pd.read_csv('../input/train.tsv',delimiter='\\t',encoding='utf-8')\n",
    "data = pd.read_csv('train.csv',delimiter='\\t',encoding='utf-8')\n",
    "data.head()"
   ]
  },
  {
   "cell_type": "markdown",
   "metadata": {
    "_uuid": "ca46f055da943032f9da52c6aa9041b21d5d73e6"
   },
   "source": [
    "# Cleaning Data\n",
    "###  Finding Features of our Data "
   ]
  },
  {
   "cell_type": "code",
   "execution_count": 3,
   "metadata": {
    "_uuid": "6f8abd0fed8350e119af09ba6ae41979504f3839"
   },
   "outputs": [],
   "source": [
    "may_be_names = ['A','B','C','D','E','F','G','H','I','J','K','L','M','N','O','P','Q','R','S','T','U','V','W','X','Y','Z']\n",
    "\n",
    "# removing all features (may be) containing names\n",
    "a = []\n",
    "for i in range(len(data.Phrase)-N):\n",
    "    line = data.Phrase[i].split(' ')\n",
    "    line_without_names = [word.lower() for word in line if word != '' and word[0] not in may_be_names]\n",
    "    a += list(set(line_without_names))\n",
    "    a = list(set(a))"
   ]
  },
  {
   "cell_type": "code",
   "execution_count": 4,
   "metadata": {
    "_uuid": "127dda7c7c2f22dffec09d68438b47d208f7516d"
   },
   "outputs": [],
   "source": [
    "# adding stop words\n",
    "a.sort()\n",
    "stop_words = set(stopwords.words('english'))\n",
    "new_stop_words = (list(stop_words)  + a[:121])\n",
    "new_stop_words.sort()"
   ]
  },
  {
   "cell_type": "code",
   "execution_count": 5,
   "metadata": {
    "_uuid": "87e4189318f3eb0e1c4d4d437cfc0a70c3f46e7f"
   },
   "outputs": [
    {
     "name": "stdout",
     "output_type": "stream",
     "text": [
      "features in our model :- 1292\n"
     ]
    }
   ],
   "source": [
    "# extract features (excluding stop words)\n",
    "features_of_model = [word for word in a if word not in new_stop_words]\n",
    "print('features in our model :-',len(features_of_model))"
   ]
  },
  {
   "cell_type": "markdown",
   "metadata": {
    "_uuid": "52599dc2eeb8971751ca6c924169f1ca1a6c14c6"
   },
   "source": [
    "### Creating data frame"
   ]
  },
  {
   "cell_type": "code",
   "execution_count": 6,
   "metadata": {
    "_uuid": "9cc97c54d05f98828a46185b029e5ca34c9ed71d"
   },
   "outputs": [
    {
     "data": {
      "text/html": [
       "<div>\n",
       "<style scoped>\n",
       "    .dataframe tbody tr th:only-of-type {\n",
       "        vertical-align: middle;\n",
       "    }\n",
       "\n",
       "    .dataframe tbody tr th {\n",
       "        vertical-align: top;\n",
       "    }\n",
       "\n",
       "    .dataframe thead th {\n",
       "        text-align: right;\n",
       "    }\n",
       "</style>\n",
       "<table border=\"1\" class=\"dataframe\">\n",
       "  <thead>\n",
       "    <tr style=\"text-align: right;\">\n",
       "      <th></th>\n",
       "      <th>base</th>\n",
       "      <th>baseball</th>\n",
       "      <th>bathtub</th>\n",
       "      <th>battle</th>\n",
       "      <th>beaten</th>\n",
       "      <th>beautiful</th>\n",
       "      <th>becomes</th>\n",
       "      <th>begging</th>\n",
       "      <th>believe</th>\n",
       "      <th>beneath</th>\n",
       "      <th>...</th>\n",
       "      <th>wrong</th>\n",
       "      <th>yarn</th>\n",
       "      <th>year</th>\n",
       "      <th>years</th>\n",
       "      <th>yes</th>\n",
       "      <th>yet</th>\n",
       "      <th>young</th>\n",
       "      <th>youth</th>\n",
       "      <th>zingers</th>\n",
       "      <th>SENTIMENT</th>\n",
       "    </tr>\n",
       "  </thead>\n",
       "  <tbody>\n",
       "    <tr>\n",
       "      <th>0</th>\n",
       "      <td>0</td>\n",
       "      <td>0</td>\n",
       "      <td>0</td>\n",
       "      <td>0</td>\n",
       "      <td>0</td>\n",
       "      <td>0</td>\n",
       "      <td>0</td>\n",
       "      <td>0</td>\n",
       "      <td>0</td>\n",
       "      <td>0</td>\n",
       "      <td>...</td>\n",
       "      <td>0</td>\n",
       "      <td>0</td>\n",
       "      <td>0</td>\n",
       "      <td>0</td>\n",
       "      <td>0</td>\n",
       "      <td>0</td>\n",
       "      <td>0</td>\n",
       "      <td>0</td>\n",
       "      <td>0</td>\n",
       "      <td>0</td>\n",
       "    </tr>\n",
       "    <tr>\n",
       "      <th>1</th>\n",
       "      <td>0</td>\n",
       "      <td>0</td>\n",
       "      <td>0</td>\n",
       "      <td>0</td>\n",
       "      <td>0</td>\n",
       "      <td>0</td>\n",
       "      <td>0</td>\n",
       "      <td>0</td>\n",
       "      <td>0</td>\n",
       "      <td>0</td>\n",
       "      <td>...</td>\n",
       "      <td>0</td>\n",
       "      <td>0</td>\n",
       "      <td>0</td>\n",
       "      <td>0</td>\n",
       "      <td>0</td>\n",
       "      <td>0</td>\n",
       "      <td>0</td>\n",
       "      <td>0</td>\n",
       "      <td>0</td>\n",
       "      <td>0</td>\n",
       "    </tr>\n",
       "    <tr>\n",
       "      <th>2</th>\n",
       "      <td>0</td>\n",
       "      <td>0</td>\n",
       "      <td>0</td>\n",
       "      <td>0</td>\n",
       "      <td>0</td>\n",
       "      <td>0</td>\n",
       "      <td>0</td>\n",
       "      <td>0</td>\n",
       "      <td>0</td>\n",
       "      <td>0</td>\n",
       "      <td>...</td>\n",
       "      <td>0</td>\n",
       "      <td>0</td>\n",
       "      <td>0</td>\n",
       "      <td>0</td>\n",
       "      <td>0</td>\n",
       "      <td>0</td>\n",
       "      <td>0</td>\n",
       "      <td>0</td>\n",
       "      <td>0</td>\n",
       "      <td>0</td>\n",
       "    </tr>\n",
       "    <tr>\n",
       "      <th>3</th>\n",
       "      <td>0</td>\n",
       "      <td>0</td>\n",
       "      <td>0</td>\n",
       "      <td>0</td>\n",
       "      <td>0</td>\n",
       "      <td>0</td>\n",
       "      <td>0</td>\n",
       "      <td>0</td>\n",
       "      <td>0</td>\n",
       "      <td>0</td>\n",
       "      <td>...</td>\n",
       "      <td>0</td>\n",
       "      <td>0</td>\n",
       "      <td>0</td>\n",
       "      <td>0</td>\n",
       "      <td>0</td>\n",
       "      <td>0</td>\n",
       "      <td>0</td>\n",
       "      <td>0</td>\n",
       "      <td>0</td>\n",
       "      <td>0</td>\n",
       "    </tr>\n",
       "    <tr>\n",
       "      <th>4</th>\n",
       "      <td>0</td>\n",
       "      <td>0</td>\n",
       "      <td>0</td>\n",
       "      <td>0</td>\n",
       "      <td>0</td>\n",
       "      <td>0</td>\n",
       "      <td>0</td>\n",
       "      <td>0</td>\n",
       "      <td>0</td>\n",
       "      <td>0</td>\n",
       "      <td>...</td>\n",
       "      <td>0</td>\n",
       "      <td>0</td>\n",
       "      <td>0</td>\n",
       "      <td>0</td>\n",
       "      <td>0</td>\n",
       "      <td>0</td>\n",
       "      <td>0</td>\n",
       "      <td>0</td>\n",
       "      <td>0</td>\n",
       "      <td>0</td>\n",
       "    </tr>\n",
       "  </tbody>\n",
       "</table>\n",
       "<p>5 rows × 1293 columns</p>\n",
       "</div>"
      ],
      "text/plain": [
       "   base  baseball  bathtub  battle  beaten  beautiful  becomes  begging  \\\n",
       "0     0         0        0       0       0          0        0        0   \n",
       "1     0         0        0       0       0          0        0        0   \n",
       "2     0         0        0       0       0          0        0        0   \n",
       "3     0         0        0       0       0          0        0        0   \n",
       "4     0         0        0       0       0          0        0        0   \n",
       "\n",
       "   believe  beneath    ...      wrong  yarn  year  years  yes  yet  young  \\\n",
       "0        0        0    ...          0     0     0      0    0    0      0   \n",
       "1        0        0    ...          0     0     0      0    0    0      0   \n",
       "2        0        0    ...          0     0     0      0    0    0      0   \n",
       "3        0        0    ...          0     0     0      0    0    0      0   \n",
       "4        0        0    ...          0     0     0      0    0    0      0   \n",
       "\n",
       "   youth  zingers  SENTIMENT  \n",
       "0      0        0          0  \n",
       "1      0        0          0  \n",
       "2      0        0          0  \n",
       "3      0        0          0  \n",
       "4      0        0          0  \n",
       "\n",
       "[5 rows x 1293 columns]"
      ]
     },
     "execution_count": 6,
     "metadata": {},
     "output_type": "execute_result"
    }
   ],
   "source": [
    "#Creating data frame with null values\n",
    "X = pd.DataFrame(data = np.zeros((len(data)-N,len(features_of_model) + 1),dtype=int),columns = features_of_model+['SENTIMENT'])\n",
    "X.head()"
   ]
  },
  {
   "cell_type": "code",
   "execution_count": 7,
   "metadata": {
    "_uuid": "2730e05a98bdafedea9d7e1debccb8f41e922363"
   },
   "outputs": [],
   "source": [
    "# entring values in data frame\n",
    "for i in range(len(data) - N):\n",
    "    current_row = data.Phrase[i].split()\n",
    "    for word in current_row:\n",
    "        if len(current_row) > 0:\n",
    "            word = word.lower()\n",
    "            X['SENTIMENT'][i] = data.Sentiment[i]\n",
    "            if word in features_of_model:\n",
    "                X[word][i] +=1"
   ]
  },
  {
   "cell_type": "markdown",
   "metadata": {
    "_uuid": "8dd28029669eb3eda107ac8d0fc4c8c0bbded16d"
   },
   "source": [
    "### Shuffling data to run on models"
   ]
  },
  {
   "cell_type": "code",
   "execution_count": 8,
   "metadata": {
    "_uuid": "018fa09125cb591de30129e3ca03feb2008a7cac"
   },
   "outputs": [],
   "source": [
    "# shuffling data for training and testing\n",
    "X_train,X_test,Y_train,Y_test = sklearn.model_selection.train_test_split(X.drop(['SENTIMENT'],axis = 1),X['SENTIMENT'],test_size = 0.3)\n"
   ]
  },
  {
   "cell_type": "code",
   "execution_count": 9,
   "metadata": {},
   "outputs": [
    {
     "name": "stdout",
     "output_type": "stream",
     "text": [
      "<class 'pandas.core.frame.DataFrame'>\n",
      "RangeIndex: 6060 entries, 0 to 6059\n",
      "Columns: 1293 entries, base to SENTIMENT\n",
      "dtypes: int32(1293)\n",
      "memory usage: 29.9 MB\n"
     ]
    }
   ],
   "source": [
    "X.info()"
   ]
  },
  {
   "cell_type": "markdown",
   "metadata": {
    "_uuid": "c69d3ed42454fb0741c7ce23e736b657a157531a"
   },
   "source": [
    "# Using differenent classifiers to find the accuracy of our data"
   ]
  },
  {
   "cell_type": "code",
   "execution_count": 10,
   "metadata": {
    "_uuid": "11e9a707a366f86cf121079b046251f1a02a1f61"
   },
   "outputs": [],
   "source": [
    "# to create list of model scores\n",
    "name = []\n",
    "test_score = []\n",
    "train_score = []"
   ]
  },
  {
   "cell_type": "code",
   "execution_count": 11,
   "metadata": {},
   "outputs": [],
   "source": [
    "#linear = linear_model.LinearRegression()\n",
    "#linear.fit(X_train, Y_train)\n",
    "#train_score +=[linear.score(X_train, Y_train)]\n"
   ]
  },
  {
   "cell_type": "code",
   "execution_count": 12,
   "metadata": {},
   "outputs": [],
   "source": [
    "#predicted=linear.predict(X_test)\n",
    "#predicted"
   ]
  },
  {
   "cell_type": "markdown",
   "metadata": {
    "_uuid": "d5f6af5db3d5fda768feb3be491262a11b265235"
   },
   "source": [
    "### Using Decision Tree Classifier"
   ]
  },
  {
   "cell_type": "code",
   "execution_count": 13,
   "metadata": {
    "_uuid": "a3bd46d741bc518fad25660fd9fe6bb7506a4acc"
   },
   "outputs": [],
   "source": [
    "decision_tree = sklearn.tree.DecisionTreeClassifier()\n",
    "decision_tree.fit(X_train,Y_train)\n",
    "name += ['decision tree']\n",
    "train_score += [decision_tree.score(X_train,Y_train)]\n",
    "test_score += [decision_tree.score(X_test,Y_test)]"
   ]
  },
  {
   "cell_type": "code",
   "execution_count": 14,
   "metadata": {
    "_uuid": "fa0a3c30d6459ae6f709e3e689622c5582122fad"
   },
   "outputs": [],
   "source": [
    "dec_test_score = []\n",
    "dec_train_score = []\n",
    "for depth in range(1,20):\n",
    "    decision_tree = sklearn.tree.DecisionTreeClassifier(max_depth=depth)\n",
    "    decision_tree.fit(X_train,Y_train)\n",
    "    dec_train_score += [decision_tree.score(X_train,Y_train)]\n",
    "    dec_test_score+= [decision_tree.score(X_test,Y_test)]"
   ]
  },
  {
   "cell_type": "markdown",
   "metadata": {
    "_uuid": "58f2857d8c8eda31a67621c00093b3363c3eef44"
   },
   "source": [
    "### Plotting LINE PLOT to see the relationship of score with depth of tree "
   ]
  },
  {
   "cell_type": "code",
   "execution_count": 15,
   "metadata": {
    "_uuid": "d72f441a78f6cc66fedac0fb2e2bb63729c6e5a9"
   },
   "outputs": [
    {
     "data": {
      "image/png": "[encoded data removed]",
      "text/plain": [
       "<matplotlib.figure.Figure at 0x229685f80f0>"
      ]
     },
     "metadata": {},
     "output_type": "display_data"
    }
   ],
   "source": [
    "plt.plot(dec_test_score,label = 'decision tree test')\n",
    "plt.plot(dec_train_score,label = 'decision tree train')\n",
    "plt.xlabel('depth')\n",
    "plt.ylabel('score')\n",
    "plt.legend()\n",
    "plt.show()"
   ]
  },
  {
   "cell_type": "markdown",
   "metadata": {
    "_uuid": "21c583c8e2f6f2a12acec72a808116d5223667f9"
   },
   "source": [
    "### Using Random Forest"
   ]
  },
  {
   "cell_type": "code",
   "execution_count": 16,
   "metadata": {
    "_uuid": "2cc78f6d1a20ed2df7b74242135b77cd03212019"
   },
   "outputs": [],
   "source": [
    "random_forest = sklearn.ensemble.RandomForestClassifier()\n",
    "random_forest.fit(X_train,Y_train)\n",
    "name += ['random_forest']\n",
    "train_score += [random_forest.score(X_train,Y_train)]\n",
    "test_score += [random_forest.score(X_test,Y_test)]"
   ]
  },
  {
   "cell_type": "markdown",
   "metadata": {
    "_uuid": "24915846d3e4f740bd86c588babf418c54816017"
   },
   "source": [
    "### Using Support Vector Machine"
   ]
  },
  {
   "cell_type": "code",
   "execution_count": 17,
   "metadata": {
    "_uuid": "74c76a832b8f0693f284b5b69bd543b219248523"
   },
   "outputs": [],
   "source": [
    "support_vector_machine = SVC()\n",
    "support_vector_machine.fit(X_train,Y_train)\n",
    "name += ['support vector machine']\n",
    "train_score += [support_vector_machine.score(X_train,Y_train)]\n",
    "test_score += [support_vector_machine.score(X_test,Y_test)]"
   ]
  },
  {
   "cell_type": "markdown",
   "metadata": {
    "_uuid": "81102e20e04ca44ff7e96952cf25cd5c271455d7"
   },
   "source": [
    "### Using Logistic Regression"
   ]
  },
  {
   "cell_type": "code",
   "execution_count": 18,
   "metadata": {
    "_uuid": "952cc7d9a4cab2f61c6a76e88d89734e56763681"
   },
   "outputs": [],
   "source": [
    "logistic_regression = LogisticRegression()\n",
    "logistic_regression.fit(X_train,Y_train)\n",
    "name += ['logistic regression']\n",
    "train_score += [logistic_regression.score(X_train,Y_train)]\n",
    "test_score += [logistic_regression.score(X_test,Y_test)]"
   ]
  },
  {
   "cell_type": "markdown",
   "metadata": {
    "_uuid": "50fb41fdc381b4c26bfeef08b54aacf12313d85c"
   },
   "source": [
    "### Using K-Nearest Neighbour"
   ]
  },
  {
   "cell_type": "code",
   "execution_count": 19,
   "metadata": {
    "_uuid": "05ec8a6315e8bed7a1170d53a40ec185456bd64d"
   },
   "outputs": [],
   "source": [
    "neigh = KNeighborsClassifier(n_neighbors=3)\n",
    "neigh.fit(X_train, Y_train)\n",
    "name += ['k-nearest neighbour , here k = 3']\n",
    "train_score += [neigh.score(X_train,Y_train)]\n",
    "test_score += [neigh.score(X_test,Y_test)]\n",
    "\n",
    "neigh1 = KNeighborsClassifier(n_neighbors=10)\n",
    "neigh1.fit(X_train, Y_train)\n",
    "name += ['k-nearest neighbour , here k = 10']\n",
    "train_score += [neigh1.score(X_train,Y_train)]\n",
    "test_score += [neigh1.score(X_test,Y_test)]"
   ]
  },
  {
   "cell_type": "markdown",
   "metadata": {},
   "source": [
    "##Using Gaussian Naive Bayes"
   ]
  },
  {
   "cell_type": "code",
   "execution_count": 27,
   "metadata": {},
   "outputs": [],
   "source": [
    "from sklearn.naive_bayes import GaussianNB\n",
    "model = GaussianNB()\n",
    "model.fit(X_train, Y_train)\n",
    "train_score +=[model.score(X_train,Y_train)]\n",
    "name += ['Gaussian Naive Bayes']\n",
    "test_score += [model.score(X_test,Y_test)]"
   ]
  },
  {
   "cell_type": "code",
   "execution_count": 28,
   "metadata": {
    "_uuid": "79cdf1a2821162a4269077ceef79719fe93f4561"
   },
   "outputs": [
    {
     "data": {
      "image/png": "[encoded data removed]",
      "text/plain": [
       "<matplotlib.figure.Figure at 0x22969494cc0>"
      ]
     },
     "metadata": {},
     "output_type": "display_data"
    }
   ],
   "source": [
    "plt.barh(name,test_score)\n",
    "plt.show()"
   ]
  },
  {
   "cell_type": "code",
   "execution_count": 29,
   "metadata": {
    "_uuid": "0f56e2612797a1e0cfe319d9c28f436d00800927"
   },
   "outputs": [
    {
     "data": {
      "text/plain": [
       "[0.6336633663366337,\n",
       " 0.6397139713971397,\n",
       " 0.5808580858085809,\n",
       " 0.6600660066006601,\n",
       " 0.6303630363036303,\n",
       " 0.6303630363036303,\n",
       " 0.20737073707370737]"
      ]
     },
     "execution_count": 29,
     "metadata": {},
     "output_type": "execute_result"
    }
   ],
   "source": [
    "test_score"
   ]
  },
  {
   "cell_type": "code",
   "execution_count": 23,
   "metadata": {},
   "outputs": [
    {
     "data": {
      "text/plain": [
       "[0.8847241867043847,\n",
       " 0.8745874587458746,\n",
       " 0.5730787364450731,\n",
       " 0.7454031117397454,\n",
       " 0.7814710042432814,\n",
       " 0.6603017444601603]"
      ]
     },
     "execution_count": 23,
     "metadata": {},
     "output_type": "execute_result"
    }
   ],
   "source": [
    "train_score"
   ]
  },
  {
   "cell_type": "code",
   "execution_count": 24,
   "metadata": {
    "_uuid": "736396ffb37301cceb88e98a6cc2e374f8607028"
   },
   "outputs": [],
   "source": [
    "Sentiment_words=[]\n",
    "for row in data['Sentiment']:\n",
    "    if row ==0:\n",
    "        Sentiment_words.append('negative')\n",
    "    elif row == 1:\n",
    "        Sentiment_words.append('somewhat negative')\n",
    "    elif row == 2:\n",
    "        Sentiment_words.append('neutral')\n",
    "    elif row == 3:\n",
    "        Sentiment_words.append('somewhat positive')\n",
    "    elif row == 4:\n",
    "        Sentiment_words.append('positive')\n",
    "    else:\n",
    "        Sentiment_words.append('Failed')\n",
    "data['Sentiment_words'] = Sentiment_words"
   ]
  },
  {
   "cell_type": "code",
   "execution_count": 25,
   "metadata": {
    "_uuid": "a81240acbb1ffcc6f07ce622d4802d9545778425"
   },
   "outputs": [
    {
     "data": {
      "text/plain": [
       "somewhat positive    32927\n",
       "somewhat negative    27273\n",
       "positive              9206\n",
       "neutral              79582\n",
       "negative              7072\n",
       "dtype: int64"
      ]
     },
     "execution_count": 25,
     "metadata": {},
     "output_type": "execute_result"
    }
   ],
   "source": [
    "word_count=pd.value_counts(data['Sentiment_words'].values, sort=False)\n",
    "word_count"
   ]
  },
  {
   "cell_type": "code",
   "execution_count": 26,
   "metadata": {
    "_uuid": "8041a7258270a5022f2b5a8ea9b9395173aa819c"
   },
   "outputs": [
    {
     "data": {
      "image/png": "[encoded data removed]",
      "text/plain": [
       "<matplotlib.figure.Figure at 0x22969443f60>"
      ]
     },
     "metadata": {},
     "output_type": "display_data"
    }
   ],
   "source": [
    "Index = [1,2,3,4,5]\n",
    "plt.figure(figsize=(15,5))\n",
    "plt.bar(Index,word_count,color = 'blue')\n",
    "plt.xticks(Index,['neutral','negative','somewhat negative','positive','somewhat positive'],rotation=45)\n",
    "plt.ylabel('word_count')\n",
    "plt.xlabel('word')\n",
    "plt.title('Count of Moods')\n",
    "plt.bar(Index, word_count)\n",
    "for a,b in zip(Index, word_count):\n",
    "    plt.text(a, b, str(b) ,color='green', fontweight='bold')"
   ]
  },
  {
   "cell_type": "code",
   "execution_count": 1,
   "metadata": {
    "_uuid": "411890d14d679a4e08128e941df153de53f1f67e"
   },
   "outputs": [],
   "source": [
    "#import matplotlib.pyplot as plt\n",
    "#%matplotlib inline\n",
    "#import seaborn as sns\n",
    "#from wordcloud import WordCloud,STOPWORDS\n"
   ]
  },
  {
   "cell_type": "code",
   "execution_count": 44,
   "metadata": {},
   "outputs": [],
   "source": [
    "positive=data[data['Sentiment_words']==('positive')]\n",
    "words = ' '.join(positive['Phrase'])\n",
    "split_word = \" \".join([word for word in words.split()])"
   ]
  },
  {
   "cell_type": "code",
   "execution_count": null,
   "metadata": {},
   "outputs": [],
   "source": [
    "#wordcloud = WordCloud(stopwords=STOPWORDS,\n",
    "                      #background_color='black',\n",
    "                      #width=3000,\n",
    "                      #height=2500\n",
    "                     #).generate(split_word)"
   ]
  }
 ],
 "metadata": {
  "kernelspec": {
   "display_name": "Python 3",
   "language": "python",
   "name": "python3"
  },
  "language_info": {
   "codemirror_mode": {
    "name": "ipython",
    "version": 3
   },
   "file_extension": ".py",
   "mimetype": "text/x-python",
   "name": "python",
   "nbconvert_exporter": "python",
   "pygments_lexer": "ipython3",
   "version": "3.6.4"
  }
 },
 "nbformat": 4,
 "nbformat_minor": 1
}
